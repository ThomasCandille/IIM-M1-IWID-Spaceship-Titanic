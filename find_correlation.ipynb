{
 "cells": [
  {
   "cell_type": "markdown",
   "id": "2347fbc9",
   "metadata": {},
   "source": [
    "# Import necessary libraries"
   ]
  },
  {
   "cell_type": "code",
   "execution_count": 563,
   "id": "d865736a",
   "metadata": {},
   "outputs": [],
   "source": [
    "import pandas as pd\n",
    "import numpy as np\n",
    "from sklearn.model_selection import train_test_split\n",
    "from sklearn.preprocessing import StandardScaler\n",
    "from sklearn.linear_model import LogisticRegression\n",
    "from sklearn.metrics import classification_report\n",
    "from sklearn.datasets import load_iris\n",
    "from matplotlib import pyplot as plt\n",
    "import seaborn as sns\n",
    "import random"
   ]
  },
  {
   "cell_type": "markdown",
   "id": "45b32bdb",
   "metadata": {},
   "source": [
    "# Recuperation des datasets"
   ]
  },
  {
   "cell_type": "code",
   "execution_count": 564,
   "id": "85dd76df",
   "metadata": {},
   "outputs": [
    {
     "data": {
      "text/html": [
       "<div>\n",
       "<style scoped>\n",
       "    .dataframe tbody tr th:only-of-type {\n",
       "        vertical-align: middle;\n",
       "    }\n",
       "\n",
       "    .dataframe tbody tr th {\n",
       "        vertical-align: top;\n",
       "    }\n",
       "\n",
       "    .dataframe thead th {\n",
       "        text-align: right;\n",
       "    }\n",
       "</style>\n",
       "<table border=\"1\" class=\"dataframe\">\n",
       "  <thead>\n",
       "    <tr style=\"text-align: right;\">\n",
       "      <th></th>\n",
       "      <th>PassengerId</th>\n",
       "      <th>HomePlanet</th>\n",
       "      <th>CryoSleep</th>\n",
       "      <th>Cabin</th>\n",
       "      <th>Destination</th>\n",
       "      <th>Age</th>\n",
       "      <th>VIP</th>\n",
       "      <th>RoomService</th>\n",
       "      <th>FoodCourt</th>\n",
       "      <th>ShoppingMall</th>\n",
       "      <th>Spa</th>\n",
       "      <th>VRDeck</th>\n",
       "      <th>Name</th>\n",
       "      <th>Transported</th>\n",
       "    </tr>\n",
       "  </thead>\n",
       "  <tbody>\n",
       "    <tr>\n",
       "      <th>0</th>\n",
       "      <td>0001_01</td>\n",
       "      <td>Europa</td>\n",
       "      <td>False</td>\n",
       "      <td>B/0/P</td>\n",
       "      <td>TRAPPIST-1e</td>\n",
       "      <td>39.0</td>\n",
       "      <td>False</td>\n",
       "      <td>0.0</td>\n",
       "      <td>0.0</td>\n",
       "      <td>0.0</td>\n",
       "      <td>0.0</td>\n",
       "      <td>0.0</td>\n",
       "      <td>Maham Ofracculy</td>\n",
       "      <td>False</td>\n",
       "    </tr>\n",
       "    <tr>\n",
       "      <th>1</th>\n",
       "      <td>0002_01</td>\n",
       "      <td>Earth</td>\n",
       "      <td>False</td>\n",
       "      <td>F/0/S</td>\n",
       "      <td>TRAPPIST-1e</td>\n",
       "      <td>24.0</td>\n",
       "      <td>False</td>\n",
       "      <td>109.0</td>\n",
       "      <td>9.0</td>\n",
       "      <td>25.0</td>\n",
       "      <td>549.0</td>\n",
       "      <td>44.0</td>\n",
       "      <td>Juanna Vines</td>\n",
       "      <td>True</td>\n",
       "    </tr>\n",
       "    <tr>\n",
       "      <th>2</th>\n",
       "      <td>0003_01</td>\n",
       "      <td>Europa</td>\n",
       "      <td>False</td>\n",
       "      <td>A/0/S</td>\n",
       "      <td>TRAPPIST-1e</td>\n",
       "      <td>58.0</td>\n",
       "      <td>True</td>\n",
       "      <td>43.0</td>\n",
       "      <td>3576.0</td>\n",
       "      <td>0.0</td>\n",
       "      <td>6715.0</td>\n",
       "      <td>49.0</td>\n",
       "      <td>Altark Susent</td>\n",
       "      <td>False</td>\n",
       "    </tr>\n",
       "    <tr>\n",
       "      <th>3</th>\n",
       "      <td>0003_02</td>\n",
       "      <td>Europa</td>\n",
       "      <td>False</td>\n",
       "      <td>A/0/S</td>\n",
       "      <td>TRAPPIST-1e</td>\n",
       "      <td>33.0</td>\n",
       "      <td>False</td>\n",
       "      <td>0.0</td>\n",
       "      <td>1283.0</td>\n",
       "      <td>371.0</td>\n",
       "      <td>3329.0</td>\n",
       "      <td>193.0</td>\n",
       "      <td>Solam Susent</td>\n",
       "      <td>False</td>\n",
       "    </tr>\n",
       "    <tr>\n",
       "      <th>4</th>\n",
       "      <td>0004_01</td>\n",
       "      <td>Earth</td>\n",
       "      <td>False</td>\n",
       "      <td>F/1/S</td>\n",
       "      <td>TRAPPIST-1e</td>\n",
       "      <td>16.0</td>\n",
       "      <td>False</td>\n",
       "      <td>303.0</td>\n",
       "      <td>70.0</td>\n",
       "      <td>151.0</td>\n",
       "      <td>565.0</td>\n",
       "      <td>2.0</td>\n",
       "      <td>Willy Santantines</td>\n",
       "      <td>True</td>\n",
       "    </tr>\n",
       "  </tbody>\n",
       "</table>\n",
       "</div>"
      ],
      "text/plain": [
       "  PassengerId HomePlanet CryoSleep  Cabin  Destination   Age    VIP  \\\n",
       "0     0001_01     Europa     False  B/0/P  TRAPPIST-1e  39.0  False   \n",
       "1     0002_01      Earth     False  F/0/S  TRAPPIST-1e  24.0  False   \n",
       "2     0003_01     Europa     False  A/0/S  TRAPPIST-1e  58.0   True   \n",
       "3     0003_02     Europa     False  A/0/S  TRAPPIST-1e  33.0  False   \n",
       "4     0004_01      Earth     False  F/1/S  TRAPPIST-1e  16.0  False   \n",
       "\n",
       "   RoomService  FoodCourt  ShoppingMall     Spa  VRDeck               Name  \\\n",
       "0          0.0        0.0           0.0     0.0     0.0    Maham Ofracculy   \n",
       "1        109.0        9.0          25.0   549.0    44.0       Juanna Vines   \n",
       "2         43.0     3576.0           0.0  6715.0    49.0      Altark Susent   \n",
       "3          0.0     1283.0         371.0  3329.0   193.0       Solam Susent   \n",
       "4        303.0       70.0         151.0   565.0     2.0  Willy Santantines   \n",
       "\n",
       "   Transported  \n",
       "0        False  \n",
       "1         True  \n",
       "2        False  \n",
       "3        False  \n",
       "4         True  "
      ]
     },
     "execution_count": 564,
     "metadata": {},
     "output_type": "execute_result"
    }
   ],
   "source": [
    "df_train = pd.read_csv('train.csv')\n",
    "\n",
    "df_train.head()"
   ]
  },
  {
   "cell_type": "code",
   "execution_count": 565,
   "id": "0f568567",
   "metadata": {},
   "outputs": [],
   "source": [
    "expense_columns = ['RoomService', 'FoodCourt', 'ShoppingMall', 'Spa', 'VRDeck']\n",
    "\n",
    "df_train['total_expenses'] = df_train[expense_columns].fillna(0).sum(axis=1)"
   ]
  },
  {
   "cell_type": "markdown",
   "id": "0723def8",
   "metadata": {},
   "source": [
    "# Find missing values"
   ]
  },
  {
   "cell_type": "code",
   "execution_count": 566,
   "id": "8f105200",
   "metadata": {},
   "outputs": [
    {
     "name": "stdout",
     "output_type": "stream",
     "text": [
      "Missing values in each column:\n",
      " PassengerId         0\n",
      "HomePlanet        201\n",
      "CryoSleep         217\n",
      "Cabin             199\n",
      "Destination       182\n",
      "Age               179\n",
      "VIP               203\n",
      "RoomService       181\n",
      "FoodCourt         183\n",
      "ShoppingMall      208\n",
      "Spa               183\n",
      "VRDeck            188\n",
      "Name              200\n",
      "Transported         0\n",
      "total_expenses      0\n",
      "dtype: int64\n"
     ]
    }
   ],
   "source": [
    "missing_values = df_train.isnull().sum()\n",
    "print(\"Missing values in each column:\\n\", missing_values)"
   ]
  },
  {
   "cell_type": "markdown",
   "id": "5d69de4b",
   "metadata": {},
   "source": [
    "# Correlations"
   ]
  },
  {
   "cell_type": "markdown",
   "id": "939f7e34",
   "metadata": {},
   "source": [
    "## Home planet and destination"
   ]
  },
  {
   "cell_type": "code",
   "execution_count": 567,
   "id": "b12df508",
   "metadata": {},
   "outputs": [
    {
     "data": {
      "text/html": [
       "<div>\n",
       "<style scoped>\n",
       "    .dataframe tbody tr th:only-of-type {\n",
       "        vertical-align: middle;\n",
       "    }\n",
       "\n",
       "    .dataframe tbody tr th {\n",
       "        vertical-align: top;\n",
       "    }\n",
       "\n",
       "    .dataframe thead th {\n",
       "        text-align: right;\n",
       "    }\n",
       "</style>\n",
       "<table border=\"1\" class=\"dataframe\">\n",
       "  <thead>\n",
       "    <tr style=\"text-align: right;\">\n",
       "      <th>Destination</th>\n",
       "      <th>55 Cancri e</th>\n",
       "      <th>PSO J318.5-22</th>\n",
       "      <th>TRAPPIST-1e</th>\n",
       "      <th>All</th>\n",
       "    </tr>\n",
       "    <tr>\n",
       "      <th>HomePlanet</th>\n",
       "      <th></th>\n",
       "      <th></th>\n",
       "      <th></th>\n",
       "      <th></th>\n",
       "    </tr>\n",
       "  </thead>\n",
       "  <tbody>\n",
       "    <tr>\n",
       "      <th>Earth</th>\n",
       "      <td>690</td>\n",
       "      <td>712</td>\n",
       "      <td>3101</td>\n",
       "      <td>4503</td>\n",
       "    </tr>\n",
       "    <tr>\n",
       "      <th>Europa</th>\n",
       "      <td>886</td>\n",
       "      <td>19</td>\n",
       "      <td>1189</td>\n",
       "      <td>2094</td>\n",
       "    </tr>\n",
       "    <tr>\n",
       "      <th>Mars</th>\n",
       "      <td>193</td>\n",
       "      <td>49</td>\n",
       "      <td>1475</td>\n",
       "      <td>1717</td>\n",
       "    </tr>\n",
       "    <tr>\n",
       "      <th>All</th>\n",
       "      <td>1769</td>\n",
       "      <td>780</td>\n",
       "      <td>5765</td>\n",
       "      <td>8314</td>\n",
       "    </tr>\n",
       "  </tbody>\n",
       "</table>\n",
       "</div>"
      ],
      "text/plain": [
       "Destination  55 Cancri e  PSO J318.5-22  TRAPPIST-1e   All\n",
       "HomePlanet                                                \n",
       "Earth                690            712         3101  4503\n",
       "Europa               886             19         1189  2094\n",
       "Mars                 193             49         1475  1717\n",
       "All                 1769            780         5765  8314"
      ]
     },
     "execution_count": 567,
     "metadata": {},
     "output_type": "execute_result"
    }
   ],
   "source": [
    "correlation_table = pd.crosstab(df_train['HomePlanet'], df_train['Destination'], margins=True)\n",
    "correlation_table"
   ]
  },
  {
   "cell_type": "code",
   "execution_count": 568,
   "id": "500fb112",
   "metadata": {},
   "outputs": [
    {
     "data": {
      "text/html": [
       "<div>\n",
       "<style scoped>\n",
       "    .dataframe tbody tr th:only-of-type {\n",
       "        vertical-align: middle;\n",
       "    }\n",
       "\n",
       "    .dataframe tbody tr th {\n",
       "        vertical-align: top;\n",
       "    }\n",
       "\n",
       "    .dataframe thead th {\n",
       "        text-align: right;\n",
       "    }\n",
       "</style>\n",
       "<table border=\"1\" class=\"dataframe\">\n",
       "  <thead>\n",
       "    <tr style=\"text-align: right;\">\n",
       "      <th>Destination</th>\n",
       "      <th>55 Cancri e</th>\n",
       "      <th>PSO J318.5-22</th>\n",
       "      <th>TRAPPIST-1e</th>\n",
       "    </tr>\n",
       "    <tr>\n",
       "      <th>HomePlanet</th>\n",
       "      <th></th>\n",
       "      <th></th>\n",
       "      <th></th>\n",
       "    </tr>\n",
       "  </thead>\n",
       "  <tbody>\n",
       "    <tr>\n",
       "      <th>Earth</th>\n",
       "      <td>15.32</td>\n",
       "      <td>15.81</td>\n",
       "      <td>68.87</td>\n",
       "    </tr>\n",
       "    <tr>\n",
       "      <th>Europa</th>\n",
       "      <td>42.31</td>\n",
       "      <td>0.91</td>\n",
       "      <td>56.78</td>\n",
       "    </tr>\n",
       "    <tr>\n",
       "      <th>Mars</th>\n",
       "      <td>11.24</td>\n",
       "      <td>2.85</td>\n",
       "      <td>85.91</td>\n",
       "    </tr>\n",
       "  </tbody>\n",
       "</table>\n",
       "</div>"
      ],
      "text/plain": [
       "Destination  55 Cancri e  PSO J318.5-22  TRAPPIST-1e\n",
       "HomePlanet                                          \n",
       "Earth              15.32          15.81        68.87\n",
       "Europa             42.31           0.91        56.78\n",
       "Mars               11.24           2.85        85.91"
      ]
     },
     "execution_count": 568,
     "metadata": {},
     "output_type": "execute_result"
    }
   ],
   "source": [
    "percentage_table = pd.crosstab(df_train['HomePlanet'], df_train['Destination'], normalize='index') * 100\n",
    "percentage_table.round(2)"
   ]
  },
  {
   "cell_type": "code",
   "execution_count": 569,
   "id": "49bb5dc3",
   "metadata": {},
   "outputs": [
    {
     "data": {
      "image/png": "[encoded data removed]",
      "text/plain": [
       "<Figure size 1000x600 with 2 Axes>"
      ]
     },
     "metadata": {},
     "output_type": "display_data"
    }
   ],
   "source": [
    "plt.figure(figsize=(10, 6))\n",
    "sns.heatmap(correlation_table.iloc[:-1, :-1], annot=True, fmt='d', cmap='Blues')\n",
    "plt.title('Correlation between Home Planet and Destination')\n",
    "plt.xlabel('Destination')\n",
    "plt.ylabel('Home Planet')\n",
    "plt.show()"
   ]
  },
  {
   "cell_type": "markdown",
   "id": "d4fbb299",
   "metadata": {},
   "source": [
    "## Cabin and Home Planet"
   ]
  },
  {
   "cell_type": "code",
   "execution_count": 570,
   "id": "aaef1d04",
   "metadata": {},
   "outputs": [
    {
     "data": {
      "text/html": [
       "<div>\n",
       "<style scoped>\n",
       "    .dataframe tbody tr th:only-of-type {\n",
       "        vertical-align: middle;\n",
       "    }\n",
       "\n",
       "    .dataframe tbody tr th {\n",
       "        vertical-align: top;\n",
       "    }\n",
       "\n",
       "    .dataframe thead th {\n",
       "        text-align: right;\n",
       "    }\n",
       "</style>\n",
       "<table border=\"1\" class=\"dataframe\">\n",
       "  <thead>\n",
       "    <tr style=\"text-align: right;\">\n",
       "      <th></th>\n",
       "      <th>Cabin_Deck</th>\n",
       "      <th>Cabin_Side</th>\n",
       "    </tr>\n",
       "  </thead>\n",
       "  <tbody>\n",
       "    <tr>\n",
       "      <th>0</th>\n",
       "      <td>B</td>\n",
       "      <td>P</td>\n",
       "    </tr>\n",
       "    <tr>\n",
       "      <th>1</th>\n",
       "      <td>F</td>\n",
       "      <td>S</td>\n",
       "    </tr>\n",
       "    <tr>\n",
       "      <th>2</th>\n",
       "      <td>A</td>\n",
       "      <td>S</td>\n",
       "    </tr>\n",
       "    <tr>\n",
       "      <th>3</th>\n",
       "      <td>A</td>\n",
       "      <td>S</td>\n",
       "    </tr>\n",
       "    <tr>\n",
       "      <th>4</th>\n",
       "      <td>F</td>\n",
       "      <td>S</td>\n",
       "    </tr>\n",
       "  </tbody>\n",
       "</table>\n",
       "</div>"
      ],
      "text/plain": [
       "  Cabin_Deck Cabin_Side\n",
       "0          B          P\n",
       "1          F          S\n",
       "2          A          S\n",
       "3          A          S\n",
       "4          F          S"
      ]
     },
     "execution_count": 570,
     "metadata": {},
     "output_type": "execute_result"
    }
   ],
   "source": [
    "df_train['Cabin_Deck'] = df_train['Cabin'].str[0]\n",
    "df_train['Cabin_Side'] = df_train['Cabin'].str[-1]\n",
    "df_train[['Cabin_Deck', 'Cabin_Side']].head()"
   ]
  },
  {
   "cell_type": "code",
   "execution_count": 571,
   "id": "a097a56d",
   "metadata": {},
   "outputs": [
    {
     "data": {
      "text/html": [
       "<div>\n",
       "<style scoped>\n",
       "    .dataframe tbody tr th:only-of-type {\n",
       "        vertical-align: middle;\n",
       "    }\n",
       "\n",
       "    .dataframe tbody tr th {\n",
       "        vertical-align: top;\n",
       "    }\n",
       "\n",
       "    .dataframe thead th {\n",
       "        text-align: right;\n",
       "    }\n",
       "</style>\n",
       "<table border=\"1\" class=\"dataframe\">\n",
       "  <thead>\n",
       "    <tr style=\"text-align: right;\">\n",
       "      <th>Cabin_Deck</th>\n",
       "      <th>A</th>\n",
       "      <th>B</th>\n",
       "      <th>C</th>\n",
       "      <th>D</th>\n",
       "      <th>E</th>\n",
       "      <th>F</th>\n",
       "      <th>G</th>\n",
       "      <th>T</th>\n",
       "    </tr>\n",
       "    <tr>\n",
       "      <th>HomePlanet</th>\n",
       "      <th></th>\n",
       "      <th></th>\n",
       "      <th></th>\n",
       "      <th></th>\n",
       "      <th></th>\n",
       "      <th></th>\n",
       "      <th></th>\n",
       "      <th></th>\n",
       "    </tr>\n",
       "  </thead>\n",
       "  <tbody>\n",
       "    <tr>\n",
       "      <th>Earth</th>\n",
       "      <td>0.00</td>\n",
       "      <td>0.0</td>\n",
       "      <td>0.00</td>\n",
       "      <td>0.00</td>\n",
       "      <td>8.76</td>\n",
       "      <td>35.81</td>\n",
       "      <td>55.42</td>\n",
       "      <td>0.00</td>\n",
       "    </tr>\n",
       "    <tr>\n",
       "      <th>Europa</th>\n",
       "      <td>12.17</td>\n",
       "      <td>37.0</td>\n",
       "      <td>35.46</td>\n",
       "      <td>8.99</td>\n",
       "      <td>6.18</td>\n",
       "      <td>0.00</td>\n",
       "      <td>0.00</td>\n",
       "      <td>0.19</td>\n",
       "    </tr>\n",
       "    <tr>\n",
       "      <th>Mars</th>\n",
       "      <td>0.00</td>\n",
       "      <td>0.0</td>\n",
       "      <td>0.00</td>\n",
       "      <td>16.38</td>\n",
       "      <td>19.16</td>\n",
       "      <td>64.46</td>\n",
       "      <td>0.00</td>\n",
       "      <td>0.00</td>\n",
       "    </tr>\n",
       "  </tbody>\n",
       "</table>\n",
       "</div>"
      ],
      "text/plain": [
       "Cabin_Deck      A     B      C      D      E      F      G     T\n",
       "HomePlanet                                                      \n",
       "Earth        0.00   0.0   0.00   0.00   8.76  35.81  55.42  0.00\n",
       "Europa      12.17  37.0  35.46   8.99   6.18   0.00   0.00  0.19\n",
       "Mars         0.00   0.0   0.00  16.38  19.16  64.46   0.00  0.00"
      ]
     },
     "execution_count": 571,
     "metadata": {},
     "output_type": "execute_result"
    }
   ],
   "source": [
    "cabin_deck_planet = pd.crosstab(df_train['HomePlanet'], df_train['Cabin_Deck'], margins=True)\n",
    "deck_percentage = pd.crosstab(df_train['HomePlanet'], df_train['Cabin_Deck'], normalize='index') * 100\n",
    "deck_percentage.round(2)"
   ]
  },
  {
   "cell_type": "code",
   "execution_count": 572,
   "id": "e77b579b",
   "metadata": {},
   "outputs": [
    {
     "data": {
      "text/html": [
       "<div>\n",
       "<style scoped>\n",
       "    .dataframe tbody tr th:only-of-type {\n",
       "        vertical-align: middle;\n",
       "    }\n",
       "\n",
       "    .dataframe tbody tr th {\n",
       "        vertical-align: top;\n",
       "    }\n",
       "\n",
       "    .dataframe thead th {\n",
       "        text-align: right;\n",
       "    }\n",
       "</style>\n",
       "<table border=\"1\" class=\"dataframe\">\n",
       "  <thead>\n",
       "    <tr style=\"text-align: right;\">\n",
       "      <th>Cabin_Side</th>\n",
       "      <th>P</th>\n",
       "      <th>S</th>\n",
       "    </tr>\n",
       "    <tr>\n",
       "      <th>HomePlanet</th>\n",
       "      <th></th>\n",
       "      <th></th>\n",
       "    </tr>\n",
       "  </thead>\n",
       "  <tbody>\n",
       "    <tr>\n",
       "      <th>Earth</th>\n",
       "      <td>50.37</td>\n",
       "      <td>49.63</td>\n",
       "    </tr>\n",
       "    <tr>\n",
       "      <th>Europa</th>\n",
       "      <td>46.14</td>\n",
       "      <td>53.86</td>\n",
       "    </tr>\n",
       "    <tr>\n",
       "      <th>Mars</th>\n",
       "      <td>51.57</td>\n",
       "      <td>48.43</td>\n",
       "    </tr>\n",
       "  </tbody>\n",
       "</table>\n",
       "</div>"
      ],
      "text/plain": [
       "Cabin_Side      P      S\n",
       "HomePlanet              \n",
       "Earth       50.37  49.63\n",
       "Europa      46.14  53.86\n",
       "Mars        51.57  48.43"
      ]
     },
     "execution_count": 572,
     "metadata": {},
     "output_type": "execute_result"
    }
   ],
   "source": [
    "cabin_side_planet = pd.crosstab(df_train['HomePlanet'], df_train['Cabin_Side'], margins=True)\n",
    "side_percentage = pd.crosstab(df_train['HomePlanet'], df_train['Cabin_Side'], normalize='index') * 100\n",
    "side_percentage.round(2)"
   ]
  },
  {
   "cell_type": "code",
   "execution_count": 573,
   "id": "5b443903",
   "metadata": {},
   "outputs": [
    {
     "data": {
      "image/png": "[encoded data removed]",
      "text/plain": [
       "<Figure size 2000x600 with 4 Axes>"
      ]
     },
     "metadata": {},
     "output_type": "display_data"
    }
   ],
   "source": [
    "fig, (ax1, ax2) = plt.subplots(1, 2, figsize=(20, 6))\n",
    "\n",
    "sns.heatmap(cabin_deck_planet.iloc[:-1, :-1], annot=True, fmt='d', cmap='Greens', ax=ax1)\n",
    "ax1.set_title('Home Planet vs Cabin Deck')\n",
    "ax1.set_xlabel('Cabin Deck')\n",
    "ax1.set_ylabel('Home Planet')\n",
    "\n",
    "sns.heatmap(cabin_side_planet.iloc[:-1, :-1], annot=True, fmt='d', cmap='Oranges', ax=ax2)\n",
    "ax2.set_title('Home Planet vs Cabin Side')\n",
    "ax2.set_xlabel('Cabin Side')\n",
    "ax2.set_ylabel('Home Planet')\n",
    "\n",
    "plt.tight_layout()\n",
    "plt.show()"
   ]
  },
  {
   "cell_type": "markdown",
   "id": "ea3499f9",
   "metadata": {},
   "source": [
    "## Cabin and Destination"
   ]
  },
  {
   "cell_type": "code",
   "execution_count": 574,
   "id": "6214c199",
   "metadata": {},
   "outputs": [
    {
     "data": {
      "text/html": [
       "<div>\n",
       "<style scoped>\n",
       "    .dataframe tbody tr th:only-of-type {\n",
       "        vertical-align: middle;\n",
       "    }\n",
       "\n",
       "    .dataframe tbody tr th {\n",
       "        vertical-align: top;\n",
       "    }\n",
       "\n",
       "    .dataframe thead th {\n",
       "        text-align: right;\n",
       "    }\n",
       "</style>\n",
       "<table border=\"1\" class=\"dataframe\">\n",
       "  <thead>\n",
       "    <tr style=\"text-align: right;\">\n",
       "      <th>Cabin_Deck</th>\n",
       "      <th>A</th>\n",
       "      <th>B</th>\n",
       "      <th>C</th>\n",
       "      <th>D</th>\n",
       "      <th>E</th>\n",
       "      <th>F</th>\n",
       "      <th>G</th>\n",
       "      <th>T</th>\n",
       "    </tr>\n",
       "    <tr>\n",
       "      <th>Destination</th>\n",
       "      <th></th>\n",
       "      <th></th>\n",
       "      <th></th>\n",
       "      <th></th>\n",
       "      <th></th>\n",
       "      <th></th>\n",
       "      <th></th>\n",
       "      <th></th>\n",
       "    </tr>\n",
       "  </thead>\n",
       "  <tbody>\n",
       "    <tr>\n",
       "      <th>55 Cancri e</th>\n",
       "      <td>6.17</td>\n",
       "      <td>19.03</td>\n",
       "      <td>18.11</td>\n",
       "      <td>6.46</td>\n",
       "      <td>6.63</td>\n",
       "      <td>22.74</td>\n",
       "      <td>20.86</td>\n",
       "      <td>0.00</td>\n",
       "    </tr>\n",
       "    <tr>\n",
       "      <th>PSO J318.5-22</th>\n",
       "      <td>0.26</td>\n",
       "      <td>0.39</td>\n",
       "      <td>1.67</td>\n",
       "      <td>2.19</td>\n",
       "      <td>5.27</td>\n",
       "      <td>30.98</td>\n",
       "      <td>59.25</td>\n",
       "      <td>0.00</td>\n",
       "    </tr>\n",
       "    <tr>\n",
       "      <th>TRAPPIST-1e</th>\n",
       "      <td>2.45</td>\n",
       "      <td>7.36</td>\n",
       "      <td>7.00</td>\n",
       "      <td>5.84</td>\n",
       "      <td>12.02</td>\n",
       "      <td>36.07</td>\n",
       "      <td>29.16</td>\n",
       "      <td>0.09</td>\n",
       "    </tr>\n",
       "  </tbody>\n",
       "</table>\n",
       "</div>"
      ],
      "text/plain": [
       "Cabin_Deck        A      B      C     D      E      F      G     T\n",
       "Destination                                                       \n",
       "55 Cancri e    6.17  19.03  18.11  6.46   6.63  22.74  20.86  0.00\n",
       "PSO J318.5-22  0.26   0.39   1.67  2.19   5.27  30.98  59.25  0.00\n",
       "TRAPPIST-1e    2.45   7.36   7.00  5.84  12.02  36.07  29.16  0.09"
      ]
     },
     "execution_count": 574,
     "metadata": {},
     "output_type": "execute_result"
    }
   ],
   "source": [
    "cabin_deck_planet = pd.crosstab(df_train['Destination'], df_train['Cabin_Deck'], margins=True)\n",
    "deck_percentage = pd.crosstab(df_train['Destination'], df_train['Cabin_Deck'], normalize='index') * 100\n",
    "deck_percentage.round(2)"
   ]
  },
  {
   "cell_type": "code",
   "execution_count": 575,
   "id": "505e4052",
   "metadata": {},
   "outputs": [
    {
     "data": {
      "text/html": [
       "<div>\n",
       "<style scoped>\n",
       "    .dataframe tbody tr th:only-of-type {\n",
       "        vertical-align: middle;\n",
       "    }\n",
       "\n",
       "    .dataframe tbody tr th {\n",
       "        vertical-align: top;\n",
       "    }\n",
       "\n",
       "    .dataframe thead th {\n",
       "        text-align: right;\n",
       "    }\n",
       "</style>\n",
       "<table border=\"1\" class=\"dataframe\">\n",
       "  <thead>\n",
       "    <tr style=\"text-align: right;\">\n",
       "      <th>Cabin_Side</th>\n",
       "      <th>P</th>\n",
       "      <th>S</th>\n",
       "    </tr>\n",
       "    <tr>\n",
       "      <th>Destination</th>\n",
       "      <th></th>\n",
       "      <th></th>\n",
       "    </tr>\n",
       "  </thead>\n",
       "  <tbody>\n",
       "    <tr>\n",
       "      <th>55 Cancri e</th>\n",
       "      <td>48.23</td>\n",
       "      <td>51.77</td>\n",
       "    </tr>\n",
       "    <tr>\n",
       "      <th>PSO J318.5-22</th>\n",
       "      <td>50.51</td>\n",
       "      <td>49.49</td>\n",
       "    </tr>\n",
       "    <tr>\n",
       "      <th>TRAPPIST-1e</th>\n",
       "      <td>49.79</td>\n",
       "      <td>50.21</td>\n",
       "    </tr>\n",
       "  </tbody>\n",
       "</table>\n",
       "</div>"
      ],
      "text/plain": [
       "Cabin_Side         P      S\n",
       "Destination                \n",
       "55 Cancri e    48.23  51.77\n",
       "PSO J318.5-22  50.51  49.49\n",
       "TRAPPIST-1e    49.79  50.21"
      ]
     },
     "execution_count": 575,
     "metadata": {},
     "output_type": "execute_result"
    }
   ],
   "source": [
    "cabin_side_planet = pd.crosstab(df_train['Destination'], df_train['Cabin_Side'], margins=True)\n",
    "deck_percentage = pd.crosstab(df_train['Destination'], df_train['Cabin_Side'], normalize='index') * 100\n",
    "deck_percentage.round(2)"
   ]
  },
  {
   "cell_type": "code",
   "execution_count": 576,
   "id": "b9f96aed",
   "metadata": {},
   "outputs": [
    {
     "data": {
      "image/png": "[encoded data removed]",
      "text/plain": [
       "<Figure size 2000x600 with 4 Axes>"
      ]
     },
     "metadata": {},
     "output_type": "display_data"
    }
   ],
   "source": [
    "fig, (ax1, ax2) = plt.subplots(1, 2, figsize=(20, 6))\n",
    "\n",
    "sns.heatmap(cabin_deck_planet.iloc[:-1, :-1], annot=True, fmt='d', cmap='Greens', ax=ax1)\n",
    "ax1.set_title('Destination vs Cabin Deck')\n",
    "ax1.set_xlabel('Cabin Deck')\n",
    "ax1.set_ylabel('Destination')\n",
    "\n",
    "sns.heatmap(cabin_side_planet.iloc[:-1, :-1], annot=True, fmt='d', cmap='Oranges', ax=ax2)\n",
    "ax2.set_title('Destination vs Cabin Side')\n",
    "ax2.set_xlabel('Cabin Side')\n",
    "ax2.set_ylabel('Destination')\n",
    "\n",
    "plt.tight_layout()\n",
    "plt.show()"
   ]
  },
  {
   "cell_type": "markdown",
   "id": "8c8ada90",
   "metadata": {},
   "source": [
    "## Age and VIP"
   ]
  },
  {
   "cell_type": "code",
   "execution_count": 577,
   "id": "70186cab",
   "metadata": {},
   "outputs": [
    {
     "data": {
      "image/png": "[encoded data removed]",
      "text/plain": [
       "<Figure size 1000x600 with 2 Axes>"
      ]
     },
     "metadata": {},
     "output_type": "display_data"
    }
   ],
   "source": [
    "correlation_table_age = pd.crosstab(df_train['VIP'], df_train['Transported'], margins=True)\n",
    "\n",
    "plt.figure(figsize=(10, 6))\n",
    "sns.heatmap(correlation_table_age.iloc[:-1, :-1], annot=True, fmt='d', cmap='Blues')\n",
    "plt.title('Correlation between VIP and death')\n",
    "plt.xlabel('VIP')\n",
    "plt.ylabel('Dead')\n",
    "plt.show()"
   ]
  },
  {
   "cell_type": "markdown",
   "id": "689d3d56",
   "metadata": {},
   "source": [
    "# Fill empty values "
   ]
  },
  {
   "cell_type": "markdown",
   "id": "c5ba9101",
   "metadata": {},
   "source": [
    "## CryoSleep\n",
    "\n",
    "\n"
   ]
  },
  {
   "cell_type": "code",
   "execution_count": 578,
   "id": "b6ebd701",
   "metadata": {},
   "outputs": [],
   "source": [
    "mask_missing_cryosleep = df_train['CryoSleep'].isnull()\n",
    "mask_zero_expenses = df_train['total_expenses'] == 0\n",
    "\n",
    "df_train.loc[mask_missing_cryosleep & mask_zero_expenses, 'CryoSleep'] = True\n",
    "df_train.loc[mask_missing_cryosleep & ~mask_zero_expenses, 'CryoSleep'] = False"
   ]
  },
  {
   "cell_type": "markdown",
   "id": "ec04f947",
   "metadata": {},
   "source": [
    "## Expense Of Cryo"
   ]
  },
  {
   "cell_type": "code",
   "execution_count": 579,
   "id": "d71fe2d3",
   "metadata": {},
   "outputs": [],
   "source": [
    "# Create mask for passengers in CryoSleep\n",
    "cryosleep_mask = df_train['CryoSleep']\n",
    "\n",
    "# Fill expense columns with 0 for CryoSleep passengers\n",
    "for col in expense_columns:\n",
    "    df_train.loc[cryosleep_mask, col] = 0"
   ]
  },
  {
   "cell_type": "markdown",
   "id": "d5192017",
   "metadata": {},
   "source": [
    "## Cabin"
   ]
  },
  {
   "cell_type": "code",
   "execution_count": 580,
   "id": "de0ac126",
   "metadata": {},
   "outputs": [],
   "source": [
    "def assign_cabin_deck(home_planet):\n",
    "    if home_planet == 'Earth':\n",
    "        return random.choices(['G', 'F'], weights=[2, 1])[0]\n",
    "    elif home_planet == 'Europa':\n",
    "        return random.choices(['B', 'C'], weights=[1, 1])[0]\n",
    "    elif home_planet == 'Mars':\n",
    "        return random.choices(['F', 'E'], weights=[4, 1])[0]\n",
    "    else:\n",
    "        return 'F'\n",
    "\n",
    "missing_cabin_mask = df_train['Cabin'].isnull()\n",
    "\n",
    "for idx in df_train[missing_cabin_mask].index:\n",
    "    home_planet = df_train.loc[idx, 'HomePlanet']\n",
    "    cabin_number = random.randint(1, 2000)\n",
    "    cabin_side = random.choice(['P', 'S'])\n",
    "    if pd.notna(home_planet):\n",
    "        new_deck = assign_cabin_deck(home_planet)\n",
    "        if new_deck:\n",
    "            df_train.loc[idx, 'Cabin'] = f\"{new_deck}/{cabin_number}/{cabin_side}\"\n",
    "    else:\n",
    "        new_deck='F'\n",
    "        df_train.loc[idx, 'Cabin'] = f\"{new_deck}/{cabin_number}/{cabin_side}\"\n"
   ]
  },
  {
   "cell_type": "markdown",
   "id": "2ed8105f",
   "metadata": {},
   "source": [
    "## Home Planet"
   ]
  },
  {
   "cell_type": "code",
   "execution_count": 581,
   "id": "a3c5975a",
   "metadata": {},
   "outputs": [],
   "source": [
    "def assign_home_planet(cabin_deck):\n",
    "    if cabin_deck in ['A','B','C']:\n",
    "        return 'Europa'\n",
    "    elif cabin_deck == 'D':\n",
    "        return random.choices(['Europa', 'Mars'], weights=[2, 3])[0]\n",
    "    elif home_planet == 'E':\n",
    "        return random.choices(['Earth', 'Europa', 'Mars'], weights=[4, 1, 3])[0]\n",
    "    elif home_planet == 'F':\n",
    "        return random.choices(['Earth', 'Mars'], weights=[16, 11])[0]\n",
    "    elif home_planet == 'G':\n",
    "        return 'Earth'\n",
    "    else:\n",
    "        return 'Europa'\n",
    "\n",
    "missing_home_planet = df_train['HomePlanet'].isnull()\n",
    "\n",
    "for idx in df_train[missing_home_planet].index:\n",
    "    cabin_deck = df_train.loc[idx, 'Cabin'][0]\n",
    "    df_train.loc[idx, 'HomePlanet'] = assign_home_planet(cabin_deck)"
   ]
  },
  {
   "cell_type": "markdown",
   "id": "6b26e620",
   "metadata": {},
   "source": [
    "## Planet destination"
   ]
  },
  {
   "cell_type": "code",
   "execution_count": 582,
   "id": "a79d84f0",
   "metadata": {},
   "outputs": [],
   "source": [
    "def assign_destination_planet(home_planet):\n",
    "    if home_planet == 'Earth':\n",
    "        return random.choices(['TRAPPIST-1e', 'PSO J318.5-22', '55 Cancri e'], weights=[31, 7, 7])[0]\n",
    "    elif home_planet == 'Europa':\n",
    "        return random.choices(['TRAPPIST-1e', '55 Cancri e'], weights=[11, 8])[0]\n",
    "    else :\n",
    "        return 'TRAPPIST-1e'\n",
    "\n",
    "missing_destination = df_train['Destination'].isnull()\n",
    "\n",
    "for idx in df_train[missing_destination].index:\n",
    "    home_planet = df_train.loc[idx, 'HomePlanet']\n",
    "    df_train.loc[idx, 'Destination'] = assign_destination_planet(home_planet)"
   ]
  },
  {
   "cell_type": "markdown",
   "id": "65e5d66c",
   "metadata": {},
   "source": [
    "## Age"
   ]
  },
  {
   "cell_type": "code",
   "execution_count": 583,
   "id": "8fc3ae79",
   "metadata": {},
   "outputs": [],
   "source": [
    "# Fill missing age values with median\n",
    "age_median = df_train['Age'].median()\n",
    "missing_age_count = df_train['Age'].isnull().sum()\n",
    "\n",
    "df_train['Age'] = df_train['Age'].fillna(age_median)"
   ]
  },
  {
   "cell_type": "markdown",
   "id": "f6c1f682",
   "metadata": {},
   "source": [
    "## Expenses"
   ]
  },
  {
   "cell_type": "code",
   "execution_count": 584,
   "id": "e33ffb8d",
   "metadata": {},
   "outputs": [],
   "source": [
    "missing_before = df_train[expense_columns].isnull().sum()\n",
    "\n",
    "for idx, row in df_train.iterrows():\n",
    "    passenger_expenses = row[expense_columns]\n",
    "    non_null_expenses = passenger_expenses.dropna()\n",
    "\n",
    "    if len(non_null_expenses) > 0:\n",
    "        passenger_mean = non_null_expenses.mean()\n",
    "\n",
    "        for col in expense_columns:\n",
    "            if pd.isna(row[col]):\n",
    "                df_train.loc[idx, col] = passenger_mean\n",
    "    else:\n",
    "        for col in expense_columns:\n",
    "            if pd.isna(row[col]):\n",
    "                df_train.loc[idx, col] = df_train[col].mean()\n",
    "\n",
    "missing_after = df_train[expense_columns].isnull().sum()"
   ]
  },
  {
   "cell_type": "markdown",
   "id": "f1c2a119",
   "metadata": {},
   "source": [
    "## VIP"
   ]
  },
  {
   "cell_type": "code",
   "execution_count": 585,
   "id": "be9a89fa",
   "metadata": {},
   "outputs": [],
   "source": [
    "missing_vip_before = df_train['VIP'].isnull().sum()\n",
    "high_expense_mask = df_train['total_expenses'] > 3000\n",
    "\n",
    "df_train.loc[high_expense_mask & df_train['VIP'].isnull(), 'VIP'] = True\n",
    "df_train.loc[df_train['VIP'].isnull(), 'VIP'] = False\n",
    "\n",
    "missing_vip_after = df_train['VIP'].isnull().sum()\n",
    "vip_filled = missing_vip_before - missing_vip_after\n",
    "new_vips = df_train.loc[high_expense_mask & (df_train['VIP']), 'VIP'].count()"
   ]
  },
  {
   "cell_type": "code",
   "execution_count": 586,
   "id": "6ca0035e",
   "metadata": {},
   "outputs": [
    {
     "name": "stdout",
     "output_type": "stream",
     "text": [
      "Missing values in each column:\n",
      " PassengerId         0\n",
      "HomePlanet          0\n",
      "CryoSleep           0\n",
      "Cabin               0\n",
      "Destination         0\n",
      "Age                 0\n",
      "VIP                 0\n",
      "RoomService         0\n",
      "FoodCourt           0\n",
      "ShoppingMall        0\n",
      "Spa                 0\n",
      "VRDeck              0\n",
      "Name              200\n",
      "Transported         0\n",
      "total_expenses      0\n",
      "Cabin_Deck        199\n",
      "Cabin_Side        199\n",
      "dtype: int64\n"
     ]
    }
   ],
   "source": [
    "missing_values = df_train.isnull().sum()\n",
    "print(\"Missing values in each column:\\n\", missing_values)"
   ]
  }
 ],
 "metadata": {
  "kernelspec": {
   "display_name": ".venv",
   "language": "python",
   "name": "python3"
  },
  "language_info": {
   "codemirror_mode": {
    "name": "ipython",
    "version": 3
   },
   "file_extension": ".py",
   "mimetype": "text/x-python",
   "name": "python",
   "nbconvert_exporter": "python",
   "pygments_lexer": "ipython3",
   "version": "3.13.3"
  }
 },
 "nbformat": 4,
 "nbformat_minor": 5
}
